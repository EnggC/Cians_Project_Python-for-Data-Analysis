{
 "cells": [
  {
   "cell_type": "code",
   "execution_count": 312,
   "metadata": {},
   "outputs": [],
   "source": [
    "import pandas as pd\n",
    "import numpy as np\n",
    "import seaborn as sns\n",
    "import matplotlib as plt\n",
    "%matplotlib inline\n"
   ]
  },
  {
   "cell_type": "code",
   "execution_count": 313,
   "metadata": {},
   "outputs": [],
   "source": [
    "df=pd.read_excel(\"Sample Data 1.xlsx\")"
   ]
  },
  {
   "cell_type": "code",
   "execution_count": 314,
   "metadata": {},
   "outputs": [
    {
     "data": {
      "text/html": [
       "<div>\n",
       "<style scoped>\n",
       "    .dataframe tbody tr th:only-of-type {\n",
       "        vertical-align: middle;\n",
       "    }\n",
       "\n",
       "    .dataframe tbody tr th {\n",
       "        vertical-align: top;\n",
       "    }\n",
       "\n",
       "    .dataframe thead th {\n",
       "        text-align: right;\n",
       "    }\n",
       "</style>\n",
       "<table border=\"1\" class=\"dataframe\">\n",
       "  <thead>\n",
       "    <tr style=\"text-align: right;\">\n",
       "      <th></th>\n",
       "      <th>Employee ID</th>\n",
       "      <th>Last Name</th>\n",
       "      <th>First Name</th>\n",
       "      <th>Customer ID</th>\n",
       "      <th>Order ID</th>\n",
       "      <th>Quantity</th>\n",
       "      <th>Price (SRP)</th>\n",
       "      <th>Product ID</th>\n",
       "      <th>Product Name</th>\n",
       "      <th>Order Date</th>\n",
       "      <th>Ship Date</th>\n",
       "      <th>Courier Website</th>\n",
       "      <th>Ship Via</th>\n",
       "      <th>Supplier Name</th>\n",
       "    </tr>\n",
       "  </thead>\n",
       "  <tbody>\n",
       "    <tr>\n",
       "      <th>0</th>\n",
       "      <td>1</td>\n",
       "      <td>Davolio</td>\n",
       "      <td>Nancy</td>\n",
       "      <td>1</td>\n",
       "      <td>1</td>\n",
       "      <td>1</td>\n",
       "      <td>41.90</td>\n",
       "      <td>2201</td>\n",
       "      <td>Triumph Pro Helmet</td>\n",
       "      <td>2015-12-02</td>\n",
       "      <td>2015-12-15</td>\n",
       "      <td>http://www.ups.com</td>\n",
       "      <td>UPS</td>\n",
       "      <td>Triumph</td>\n",
       "    </tr>\n",
       "    <tr>\n",
       "      <th>1</th>\n",
       "      <td>3</td>\n",
       "      <td>Leverling</td>\n",
       "      <td>Janet</td>\n",
       "      <td>41</td>\n",
       "      <td>1002</td>\n",
       "      <td>3</td>\n",
       "      <td>1739.85</td>\n",
       "      <td>102181</td>\n",
       "      <td>Mozzie</td>\n",
       "      <td>2015-12-02</td>\n",
       "      <td>2015-12-03</td>\n",
       "      <td>NaN</td>\n",
       "      <td>Pickup</td>\n",
       "      <td>Craze</td>\n",
       "    </tr>\n",
       "    <tr>\n",
       "      <th>2</th>\n",
       "      <td>3</td>\n",
       "      <td>Leverling</td>\n",
       "      <td>Janet</td>\n",
       "      <td>41</td>\n",
       "      <td>1002</td>\n",
       "      <td>3</td>\n",
       "      <td>33.90</td>\n",
       "      <td>5205</td>\n",
       "      <td>Xtreme Adult Helmet</td>\n",
       "      <td>2015-12-02</td>\n",
       "      <td>2015-12-03</td>\n",
       "      <td>NaN</td>\n",
       "      <td>Pickup</td>\n",
       "      <td>Craze</td>\n",
       "    </tr>\n",
       "    <tr>\n",
       "      <th>3</th>\n",
       "      <td>4</td>\n",
       "      <td>Peacock</td>\n",
       "      <td>Margaret</td>\n",
       "      <td>77</td>\n",
       "      <td>1003</td>\n",
       "      <td>3</td>\n",
       "      <td>53.90</td>\n",
       "      <td>2213</td>\n",
       "      <td>Triumph Vertigo Helmet</td>\n",
       "      <td>2015-12-02</td>\n",
       "      <td>2015-12-14</td>\n",
       "      <td>http://www.ups.com</td>\n",
       "      <td>UPS</td>\n",
       "      <td>Triumph</td>\n",
       "    </tr>\n",
       "    <tr>\n",
       "      <th>4</th>\n",
       "      <td>4</td>\n",
       "      <td>Peacock</td>\n",
       "      <td>Margaret</td>\n",
       "      <td>77</td>\n",
       "      <td>1003</td>\n",
       "      <td>3</td>\n",
       "      <td>14.50</td>\n",
       "      <td>5402</td>\n",
       "      <td>Xtreme Anatomic Ladies Saddle</td>\n",
       "      <td>2015-12-02</td>\n",
       "      <td>2015-12-14</td>\n",
       "      <td>http://www.ups.com</td>\n",
       "      <td>UPS</td>\n",
       "      <td>Craze</td>\n",
       "    </tr>\n",
       "  </tbody>\n",
       "</table>\n",
       "</div>"
      ],
      "text/plain": [
       "   Employee ID  Last Name First Name  Customer ID  Order ID  Quantity  \\\n",
       "0            1    Davolio      Nancy            1         1         1   \n",
       "1            3  Leverling      Janet           41      1002         3   \n",
       "2            3  Leverling      Janet           41      1002         3   \n",
       "3            4    Peacock   Margaret           77      1003         3   \n",
       "4            4    Peacock   Margaret           77      1003         3   \n",
       "\n",
       "   Price (SRP)  Product ID                   Product Name Order Date  \\\n",
       "0        41.90        2201             Triumph Pro Helmet 2015-12-02   \n",
       "1      1739.85      102181                         Mozzie 2015-12-02   \n",
       "2        33.90        5205            Xtreme Adult Helmet 2015-12-02   \n",
       "3        53.90        2213         Triumph Vertigo Helmet 2015-12-02   \n",
       "4        14.50        5402  Xtreme Anatomic Ladies Saddle 2015-12-02   \n",
       "\n",
       "   Ship Date     Courier Website Ship Via Supplier Name  \n",
       "0 2015-12-15  http://www.ups.com      UPS       Triumph  \n",
       "1 2015-12-03                 NaN   Pickup         Craze  \n",
       "2 2015-12-03                 NaN   Pickup         Craze  \n",
       "3 2015-12-14  http://www.ups.com      UPS       Triumph  \n",
       "4 2015-12-14  http://www.ups.com      UPS         Craze  "
      ]
     },
     "execution_count": 314,
     "metadata": {},
     "output_type": "execute_result"
    }
   ],
   "source": [
    "df.head(5)"
   ]
  },
  {
   "cell_type": "code",
   "execution_count": 315,
   "metadata": {},
   "outputs": [
    {
     "data": {
      "text/plain": [
       "Index(['Employee ID', 'Last Name', 'First Name', 'Customer ID', 'Order ID',\n",
       "       'Quantity', 'Price (SRP)', 'Product ID', 'Product Name', 'Order Date',\n",
       "       'Ship Date', 'Courier Website', 'Ship Via', 'Supplier Name'],\n",
       "      dtype='object')"
      ]
     },
     "execution_count": 315,
     "metadata": {},
     "output_type": "execute_result"
    }
   ],
   "source": [
    "df.columns"
   ]
  },
  {
   "cell_type": "code",
   "execution_count": 316,
   "metadata": {},
   "outputs": [
    {
     "data": {
      "text/plain": [
       "Employee ID                 int64\n",
       "Last Name                  object\n",
       "First Name                 object\n",
       "Customer ID                 int64\n",
       "Order ID                    int64\n",
       "Quantity                    int64\n",
       "Price (SRP)               float64\n",
       "Product ID                  int64\n",
       "Product Name               object\n",
       "Order Date         datetime64[ns]\n",
       "Ship Date          datetime64[ns]\n",
       "Courier Website            object\n",
       "Ship Via                   object\n",
       "Supplier Name              object\n",
       "dtype: object"
      ]
     },
     "execution_count": 316,
     "metadata": {},
     "output_type": "execute_result"
    }
   ],
   "source": [
    "df.dtypes"
   ]
  },
  {
   "cell_type": "code",
   "execution_count": 317,
   "metadata": {},
   "outputs": [
    {
     "data": {
      "text/plain": [
       "array(['Nancy', 'Janet', 'Margaret', 'Anne', 'Robert', 'Michael'],\n",
       "      dtype=object)"
      ]
     },
     "execution_count": 317,
     "metadata": {},
     "output_type": "execute_result"
    }
   ],
   "source": [
    "Employee_list=df['First Name'].unique()\n",
    "Employee_list"
   ]
  },
  {
   "cell_type": "code",
   "execution_count": 318,
   "metadata": {},
   "outputs": [
    {
     "data": {
      "text/plain": [
       "38"
      ]
     },
     "execution_count": 318,
     "metadata": {},
     "output_type": "execute_result"
    }
   ],
   "source": [
    "Product_list=df['Product Name'].nunique()\n",
    "Product_list"
   ]
  },
  {
   "cell_type": "code",
   "execution_count": 319,
   "metadata": {},
   "outputs": [
    {
     "data": {
      "text/plain": [
       "count    3684.000000\n",
       "mean      544.209023\n",
       "std       849.386483\n",
       "min         4.500000\n",
       "25%        21.900000\n",
       "50%        53.900000\n",
       "75%       764.850000\n",
       "max      2939.850000\n",
       "Name: Price (SRP), dtype: float64"
      ]
     },
     "execution_count": 319,
     "metadata": {},
     "output_type": "execute_result"
    }
   ],
   "source": [
    "df['Price (SRP)'].describe()"
   ]
  },
  {
   "cell_type": "code",
   "execution_count": 320,
   "metadata": {},
   "outputs": [
    {
     "data": {
      "text/plain": [
       "Employee ID        320\n",
       "Last Name          320\n",
       "First Name         320\n",
       "Customer ID        320\n",
       "Order ID           320\n",
       "Quantity           320\n",
       "Price (SRP)        320\n",
       "Product ID         320\n",
       "Product Name       320\n",
       "Order Date         320\n",
       "Ship Date          320\n",
       "Courier Website    268\n",
       "Ship Via           320\n",
       "Supplier Name      320\n",
       "dtype: int64"
      ]
     },
     "execution_count": 320,
     "metadata": {},
     "output_type": "execute_result"
    }
   ],
   "source": [
    "df[df['Price (SRP)']==2939.85].count()"
   ]
  },
  {
   "cell_type": "code",
   "execution_count": 321,
   "metadata": {},
   "outputs": [
    {
     "data": {
      "text/html": [
       "<div>\n",
       "<style scoped>\n",
       "    .dataframe tbody tr th:only-of-type {\n",
       "        vertical-align: middle;\n",
       "    }\n",
       "\n",
       "    .dataframe tbody tr th {\n",
       "        vertical-align: top;\n",
       "    }\n",
       "\n",
       "    .dataframe thead th {\n",
       "        text-align: right;\n",
       "    }\n",
       "</style>\n",
       "<table border=\"1\" class=\"dataframe\">\n",
       "  <thead>\n",
       "    <tr style=\"text-align: right;\">\n",
       "      <th></th>\n",
       "      <th>Courier Website</th>\n",
       "      <th>Ship Via</th>\n",
       "    </tr>\n",
       "  </thead>\n",
       "  <tbody>\n",
       "    <tr>\n",
       "      <th>0</th>\n",
       "      <td>http://www.ups.com</td>\n",
       "      <td>UPS</td>\n",
       "    </tr>\n",
       "    <tr>\n",
       "      <th>1</th>\n",
       "      <td>NaN</td>\n",
       "      <td>Pickup</td>\n",
       "    </tr>\n",
       "    <tr>\n",
       "      <th>2</th>\n",
       "      <td>NaN</td>\n",
       "      <td>Pickup</td>\n",
       "    </tr>\n",
       "    <tr>\n",
       "      <th>3</th>\n",
       "      <td>http://www.ups.com</td>\n",
       "      <td>UPS</td>\n",
       "    </tr>\n",
       "    <tr>\n",
       "      <th>4</th>\n",
       "      <td>http://www.ups.com</td>\n",
       "      <td>UPS</td>\n",
       "    </tr>\n",
       "    <tr>\n",
       "      <th>...</th>\n",
       "      <td>...</td>\n",
       "      <td>...</td>\n",
       "    </tr>\n",
       "    <tr>\n",
       "      <th>3679</th>\n",
       "      <td>http://www.loomis.com</td>\n",
       "      <td>Loomis</td>\n",
       "    </tr>\n",
       "    <tr>\n",
       "      <th>3680</th>\n",
       "      <td>NaN</td>\n",
       "      <td>Pickup</td>\n",
       "    </tr>\n",
       "    <tr>\n",
       "      <th>3681</th>\n",
       "      <td>http://www.usps.com</td>\n",
       "      <td>Parcel Post</td>\n",
       "    </tr>\n",
       "    <tr>\n",
       "      <th>3682</th>\n",
       "      <td>http://www.ups.com</td>\n",
       "      <td>UPS</td>\n",
       "    </tr>\n",
       "    <tr>\n",
       "      <th>3683</th>\n",
       "      <td>http://www.usps.com</td>\n",
       "      <td>Parcel Post</td>\n",
       "    </tr>\n",
       "  </tbody>\n",
       "</table>\n",
       "<p>3684 rows × 2 columns</p>\n",
       "</div>"
      ],
      "text/plain": [
       "            Courier Website     Ship Via\n",
       "0        http://www.ups.com          UPS\n",
       "1                       NaN       Pickup\n",
       "2                       NaN       Pickup\n",
       "3        http://www.ups.com          UPS\n",
       "4        http://www.ups.com          UPS\n",
       "...                     ...          ...\n",
       "3679  http://www.loomis.com       Loomis\n",
       "3680                    NaN       Pickup\n",
       "3681    http://www.usps.com  Parcel Post\n",
       "3682     http://www.ups.com          UPS\n",
       "3683    http://www.usps.com  Parcel Post\n",
       "\n",
       "[3684 rows x 2 columns]"
      ]
     },
     "execution_count": 321,
     "metadata": {},
     "output_type": "execute_result"
    }
   ],
   "source": [
    "df[['Courier Website','Ship Via']]"
   ]
  },
  {
   "cell_type": "code",
   "execution_count": 322,
   "metadata": {},
   "outputs": [
    {
     "data": {
      "text/plain": [
       "Employee ID        585\n",
       "Last Name          585\n",
       "First Name         585\n",
       "Customer ID        585\n",
       "Order ID           585\n",
       "Quantity           585\n",
       "Price (SRP)        585\n",
       "Product ID         585\n",
       "Product Name       585\n",
       "Order Date         585\n",
       "Ship Date          585\n",
       "Courier Website      0\n",
       "Ship Via           585\n",
       "Supplier Name      585\n",
       "dtype: int64"
      ]
     },
     "execution_count": 322,
     "metadata": {},
     "output_type": "execute_result"
    }
   ],
   "source": [
    "df[df['Ship Via']=='Pickup'].count()"
   ]
  },
  {
   "cell_type": "code",
   "execution_count": 323,
   "metadata": {},
   "outputs": [],
   "source": [
    "df['Ship Via Category']=df['Ship Via']"
   ]
  },
  {
   "cell_type": "code",
   "execution_count": 324,
   "metadata": {},
   "outputs": [
    {
     "data": {
      "text/plain": [
       "Index(['Employee ID', 'Last Name', 'First Name', 'Customer ID', 'Order ID',\n",
       "       'Quantity', 'Price (SRP)', 'Product ID', 'Product Name', 'Order Date',\n",
       "       'Ship Date', 'Courier Website', 'Ship Via', 'Supplier Name',\n",
       "       'Ship Via Category'],\n",
       "      dtype='object')"
      ]
     },
     "execution_count": 324,
     "metadata": {},
     "output_type": "execute_result"
    }
   ],
   "source": [
    "df.columns"
   ]
  },
  {
   "cell_type": "code",
   "execution_count": 325,
   "metadata": {},
   "outputs": [
    {
     "data": {
      "text/plain": [
       "array(['UPS', 'Pickup', 'Loomis', 'Purolator', 'Parcel Post', 'FedEx'],\n",
       "      dtype=object)"
      ]
     },
     "execution_count": 325,
     "metadata": {},
     "output_type": "execute_result"
    }
   ],
   "source": [
    "df['Ship Via Category'].unique()"
   ]
  },
  {
   "cell_type": "code",
   "execution_count": 225,
   "metadata": {},
   "outputs": [],
   "source": [
    "df['Ship Via Category'] = df['Ship Via Category'].replace(['UPS', 'Loomis', 'Purolator', 'Parcel Post', 'FedEx'], 'Courier')"
   ]
  },
  {
   "cell_type": "code",
   "execution_count": 228,
   "metadata": {},
   "outputs": [
    {
     "data": {
      "text/plain": [
       "<Axes: xlabel='Ship Via Category', ylabel='Quantity'>"
      ]
     },
     "execution_count": 228,
     "metadata": {},
     "output_type": "execute_result"
    },
    {
     "data": {
      "image/png": "[encoded data removed]",
      "text/plain": [
       "<Figure size 640x480 with 1 Axes>"
      ]
     },
     "metadata": {},
     "output_type": "display_data"
    }
   ],
   "source": [
    "sns.barplot(data=df,x='Ship Via Category',y='Quantity',estimator='sum')"
   ]
  },
  {
   "cell_type": "code",
   "execution_count": 328,
   "metadata": {},
   "outputs": [
    {
     "data": {
      "text/plain": [
       "0       13\n",
       "1        1\n",
       "2        1\n",
       "3       12\n",
       "4       12\n",
       "        ..\n",
       "3679     6\n",
       "3680     2\n",
       "3681     6\n",
       "3682     6\n",
       "3683     1\n",
       "Name: Lead Time, Length: 3684, dtype: int64"
      ]
     },
     "execution_count": 328,
     "metadata": {},
     "output_type": "execute_result"
    }
   ],
   "source": [
    "df['Lead Time']=df['Ship Date']-df['Order Date']\n",
    "df['Lead Time']=df['Lead Time'].dt.days\n",
    "df['Lead Time'].dtype\n",
    "df['Lead Time']\n"
   ]
  },
  {
   "cell_type": "code",
   "execution_count": 329,
   "metadata": {},
   "outputs": [
    {
     "data": {
      "text/plain": [
       "<Axes: ylabel='Lead Time'>"
      ]
     },
     "execution_count": 329,
     "metadata": {},
     "output_type": "execute_result"
    },
    {
     "data": {
      "image/png": "[encoded data removed]",
      "text/plain": [
       "<Figure size 640x480 with 1 Axes>"
      ]
     },
     "metadata": {},
     "output_type": "display_data"
    }
   ],
   "source": [
    "sns.boxplot(data=df,y='Lead Time')"
   ]
  },
  {
   "cell_type": "code",
   "execution_count": 330,
   "metadata": {},
   "outputs": [
    {
     "data": {
      "text/html": [
       "<div>\n",
       "<style scoped>\n",
       "    .dataframe tbody tr th:only-of-type {\n",
       "        vertical-align: middle;\n",
       "    }\n",
       "\n",
       "    .dataframe tbody tr th {\n",
       "        vertical-align: top;\n",
       "    }\n",
       "\n",
       "    .dataframe thead th {\n",
       "        text-align: right;\n",
       "    }\n",
       "</style>\n",
       "<table border=\"1\" class=\"dataframe\">\n",
       "  <thead>\n",
       "    <tr style=\"text-align: right;\">\n",
       "      <th></th>\n",
       "      <th>Employee ID</th>\n",
       "      <th>Last Name</th>\n",
       "      <th>First Name</th>\n",
       "      <th>Customer ID</th>\n",
       "      <th>Order ID</th>\n",
       "      <th>Quantity</th>\n",
       "      <th>Price (SRP)</th>\n",
       "      <th>Product ID</th>\n",
       "      <th>Product Name</th>\n",
       "      <th>Order Date</th>\n",
       "      <th>Ship Date</th>\n",
       "      <th>Courier Website</th>\n",
       "      <th>Ship Via</th>\n",
       "      <th>Supplier Name</th>\n",
       "      <th>Ship Via Category</th>\n",
       "      <th>Lead Time</th>\n",
       "    </tr>\n",
       "  </thead>\n",
       "  <tbody>\n",
       "    <tr>\n",
       "      <th>0</th>\n",
       "      <td>1</td>\n",
       "      <td>Davolio</td>\n",
       "      <td>Nancy</td>\n",
       "      <td>1</td>\n",
       "      <td>1</td>\n",
       "      <td>1</td>\n",
       "      <td>41.90</td>\n",
       "      <td>2201</td>\n",
       "      <td>Triumph Pro Helmet</td>\n",
       "      <td>2015-12-02</td>\n",
       "      <td>2015-12-15</td>\n",
       "      <td>http://www.ups.com</td>\n",
       "      <td>UPS</td>\n",
       "      <td>Triumph</td>\n",
       "      <td>UPS</td>\n",
       "      <td>13</td>\n",
       "    </tr>\n",
       "    <tr>\n",
       "      <th>3</th>\n",
       "      <td>4</td>\n",
       "      <td>Peacock</td>\n",
       "      <td>Margaret</td>\n",
       "      <td>77</td>\n",
       "      <td>1003</td>\n",
       "      <td>3</td>\n",
       "      <td>53.90</td>\n",
       "      <td>2213</td>\n",
       "      <td>Triumph Vertigo Helmet</td>\n",
       "      <td>2015-12-02</td>\n",
       "      <td>2015-12-14</td>\n",
       "      <td>http://www.ups.com</td>\n",
       "      <td>UPS</td>\n",
       "      <td>Triumph</td>\n",
       "      <td>UPS</td>\n",
       "      <td>12</td>\n",
       "    </tr>\n",
       "    <tr>\n",
       "      <th>4</th>\n",
       "      <td>4</td>\n",
       "      <td>Peacock</td>\n",
       "      <td>Margaret</td>\n",
       "      <td>77</td>\n",
       "      <td>1003</td>\n",
       "      <td>3</td>\n",
       "      <td>14.50</td>\n",
       "      <td>5402</td>\n",
       "      <td>Xtreme Anatomic Ladies Saddle</td>\n",
       "      <td>2015-12-02</td>\n",
       "      <td>2015-12-14</td>\n",
       "      <td>http://www.ups.com</td>\n",
       "      <td>UPS</td>\n",
       "      <td>Craze</td>\n",
       "      <td>UPS</td>\n",
       "      <td>12</td>\n",
       "    </tr>\n",
       "    <tr>\n",
       "      <th>11</th>\n",
       "      <td>4</td>\n",
       "      <td>Peacock</td>\n",
       "      <td>Margaret</td>\n",
       "      <td>11</td>\n",
       "      <td>1008</td>\n",
       "      <td>2</td>\n",
       "      <td>764.85</td>\n",
       "      <td>301161</td>\n",
       "      <td>SlickRock</td>\n",
       "      <td>2015-12-03</td>\n",
       "      <td>2015-12-16</td>\n",
       "      <td>http://www.purolator.com</td>\n",
       "      <td>Purolator</td>\n",
       "      <td>Craze</td>\n",
       "      <td>Purolator</td>\n",
       "      <td>13</td>\n",
       "    </tr>\n",
       "    <tr>\n",
       "      <th>12</th>\n",
       "      <td>4</td>\n",
       "      <td>Peacock</td>\n",
       "      <td>Margaret</td>\n",
       "      <td>11</td>\n",
       "      <td>1008</td>\n",
       "      <td>1</td>\n",
       "      <td>479.85</td>\n",
       "      <td>302201</td>\n",
       "      <td>Rapel</td>\n",
       "      <td>2015-12-03</td>\n",
       "      <td>2015-12-16</td>\n",
       "      <td>http://www.purolator.com</td>\n",
       "      <td>Purolator</td>\n",
       "      <td>Craze</td>\n",
       "      <td>Purolator</td>\n",
       "      <td>13</td>\n",
       "    </tr>\n",
       "  </tbody>\n",
       "</table>\n",
       "</div>"
      ],
      "text/plain": [
       "    Employee ID Last Name First Name  Customer ID  Order ID  Quantity  \\\n",
       "0             1   Davolio      Nancy            1         1         1   \n",
       "3             4   Peacock   Margaret           77      1003         3   \n",
       "4             4   Peacock   Margaret           77      1003         3   \n",
       "11            4   Peacock   Margaret           11      1008         2   \n",
       "12            4   Peacock   Margaret           11      1008         1   \n",
       "\n",
       "    Price (SRP)  Product ID                   Product Name Order Date  \\\n",
       "0         41.90        2201             Triumph Pro Helmet 2015-12-02   \n",
       "3         53.90        2213         Triumph Vertigo Helmet 2015-12-02   \n",
       "4         14.50        5402  Xtreme Anatomic Ladies Saddle 2015-12-02   \n",
       "11       764.85      301161                      SlickRock 2015-12-03   \n",
       "12       479.85      302201                          Rapel 2015-12-03   \n",
       "\n",
       "    Ship Date           Courier Website   Ship Via Supplier Name  \\\n",
       "0  2015-12-15        http://www.ups.com        UPS       Triumph   \n",
       "3  2015-12-14        http://www.ups.com        UPS       Triumph   \n",
       "4  2015-12-14        http://www.ups.com        UPS         Craze   \n",
       "11 2015-12-16  http://www.purolator.com  Purolator         Craze   \n",
       "12 2015-12-16  http://www.purolator.com  Purolator         Craze   \n",
       "\n",
       "   Ship Via Category  Lead Time  \n",
       "0                UPS         13  \n",
       "3                UPS         12  \n",
       "4                UPS         12  \n",
       "11         Purolator         13  \n",
       "12         Purolator         13  "
      ]
     },
     "execution_count": 330,
     "metadata": {},
     "output_type": "execute_result"
    }
   ],
   "source": [
    "Highlead_time=df.loc[df['Lead Time']>=10]\n",
    "Highlead_time.head()"
   ]
  },
  {
   "cell_type": "code",
   "execution_count": 331,
   "metadata": {},
   "outputs": [
    {
     "data": {
      "text/plain": [
       "array(['Triumph Pro Helmet', 'Triumph Vertigo Helmet',\n",
       "       'Xtreme Anatomic Ladies Saddle', 'SlickRock', 'Rapel', 'Nicros',\n",
       "       'Xtreme Adult Helmet', 'Mozzie', 'Roadster Micro Mtn Saddle',\n",
       "       'Descent', 'Active Outdoors Crochet Glove', 'Endorphin',\n",
       "       'Mini Nicros', 'Xtreme Youth Helmet',\n",
       "       'Xtreme Gellite  Ladies Saddle', 'Active Outdoors Lycra Glove',\n",
       "       'Wheeler', 'InFlux Lycra Glove', 'Romeo',\n",
       "       'Xtreme Anatomic Mens Saddle', 'Xtreme Mtn Lock',\n",
       "       'Xtreme Rhino Lock', 'Guardian Mini Lock', 'InFlux Crochet Glove',\n",
       "       'Guardian XL \"U\" Lock', 'Micro Nicros',\n",
       "       'Vesper Gelflex ATB Saddle', 'Vesper Comfort ATB Saddle',\n",
       "       'Xtreme Wide MTB Saddle', 'Guardian \"U\" Lock',\n",
       "       'Roadster Mini Mtn Saddle', 'Roadster Jr BMX Saddle',\n",
       "       'Guardian Chain Lock', 'Xtreme Gellite Mens Saddle',\n",
       "       'Xtreme Titan Lock', 'Guardian ATB Lock',\n",
       "       'Vesper Gelflex Ladies Saddle', 'Vesper Comfort Ladies Saddle'],\n",
       "      dtype=object)"
      ]
     },
     "execution_count": 331,
     "metadata": {},
     "output_type": "execute_result"
    }
   ],
   "source": [
    "Product_highleadtime=df.loc[df['Lead Time']>=10,'Product Name'].unique()\n",
    "Product_highleadtime"
   ]
  },
  {
   "cell_type": "code",
   "execution_count": 279,
   "metadata": {},
   "outputs": [
    {
     "data": {
      "text/plain": [
       "<Axes: title={'center': 'Percentage Sold'}, ylabel='Order ID'>"
      ]
     },
     "execution_count": 279,
     "metadata": {},
     "output_type": "execute_result"
    },
    {
     "data": {
      "image/png": "[encoded data removed]",
      "text/plain": [
       "<Figure size 1500x1000 with 1 Axes>"
      ]
     },
     "metadata": {},
     "output_type": "display_data"
    }
   ],
   "source": [
    "df.groupby('First Name').count().plot(kind='pie', y='Order ID', autopct='%1.0f%%',title='Percentage Sold', figsize=(15,10))"
   ]
  },
  {
   "cell_type": "code",
   "execution_count": null,
   "metadata": {},
   "outputs": [],
   "source": [
    "\n"
   ]
  }
 ],
 "metadata": {
  "kernelspec": {
   "display_name": "Python 3",
   "language": "python",
   "name": "python3"
  },
  "language_info": {
   "codemirror_mode": {
    "name": "ipython",
    "version": 3
   },
   "file_extension": ".py",
   "mimetype": "text/x-python",
   "name": "python",
   "nbconvert_exporter": "python",
   "pygments_lexer": "ipython3",
   "version": "3.11.4"
  }
 },
 "nbformat": 4,
 "nbformat_minor": 2
}
