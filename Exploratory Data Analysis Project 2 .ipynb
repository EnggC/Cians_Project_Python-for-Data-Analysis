{
 "cells": [
  {
   "cell_type": "code",
   "execution_count": 75,
   "metadata": {},
   "outputs": [],
   "source": [
    "import pandas as pd\n",
    "import numpy as np\n"
   ]
  },
  {
   "cell_type": "code",
   "execution_count": 2,
   "metadata": {},
   "outputs": [],
   "source": [
    "excel_file_1 = 'Workbook_1.xlsx'\n",
    "excel_file_2 = 'Workbook_2.xlsx'"
   ]
  },
  {
   "cell_type": "code",
   "execution_count": 7,
   "metadata": {},
   "outputs": [],
   "source": [
    "df1 = pd.read_excel(excel_file_1)\n",
    "df2 = pd.read_excel(excel_file_2)"
   ]
  },
  {
   "cell_type": "code",
   "execution_count": 20,
   "metadata": {},
   "outputs": [
    {
     "data": {
      "text/html": [
       "<div>\n",
       "<style scoped>\n",
       "    .dataframe tbody tr th:only-of-type {\n",
       "        vertical-align: middle;\n",
       "    }\n",
       "\n",
       "    .dataframe tbody tr th {\n",
       "        vertical-align: top;\n",
       "    }\n",
       "\n",
       "    .dataframe thead th {\n",
       "        text-align: right;\n",
       "    }\n",
       "</style>\n",
       "<table border=\"1\" class=\"dataframe\">\n",
       "  <thead>\n",
       "    <tr style=\"text-align: right;\">\n",
       "      <th></th>\n",
       "      <th>Name</th>\n",
       "      <th>Position</th>\n",
       "      <th>YR Experience</th>\n",
       "      <th>Interview Score</th>\n",
       "      <th>Comments</th>\n",
       "    </tr>\n",
       "  </thead>\n",
       "  <tbody>\n",
       "    <tr>\n",
       "      <th>0</th>\n",
       "      <td>Ahmed</td>\n",
       "      <td>Engineer</td>\n",
       "      <td>3</td>\n",
       "      <td>5.0</td>\n",
       "      <td>Fantastic Preperation</td>\n",
       "    </tr>\n",
       "    <tr>\n",
       "      <th>1</th>\n",
       "      <td>Ben</td>\n",
       "      <td>Manager</td>\n",
       "      <td>4</td>\n",
       "      <td>4.5</td>\n",
       "      <td>Very enthusiastic</td>\n",
       "    </tr>\n",
       "    <tr>\n",
       "      <th>2</th>\n",
       "      <td>Catherine</td>\n",
       "      <td>Manager</td>\n",
       "      <td>4</td>\n",
       "      <td>3.5</td>\n",
       "      <td>Most Professional Interview</td>\n",
       "    </tr>\n",
       "    <tr>\n",
       "      <th>3</th>\n",
       "      <td>Derrick</td>\n",
       "      <td>Janitoral</td>\n",
       "      <td>0</td>\n",
       "      <td>0.0</td>\n",
       "      <td>Technologically Challenged</td>\n",
       "    </tr>\n",
       "    <tr>\n",
       "      <th>4</th>\n",
       "      <td>Emmanuel</td>\n",
       "      <td>Sales</td>\n",
       "      <td>3</td>\n",
       "      <td>3.5</td>\n",
       "      <td>Awesome Sales Pitch</td>\n",
       "    </tr>\n",
       "  </tbody>\n",
       "</table>\n",
       "</div>"
      ],
      "text/plain": [
       "        Name   Position  YR Experience  Interview Score  \\\n",
       "0      Ahmed   Engineer              3              5.0   \n",
       "1        Ben    Manager              4              4.5   \n",
       "2  Catherine    Manager              4              3.5   \n",
       "3    Derrick  Janitoral              0              0.0   \n",
       "4  Emmanuel       Sales              3              3.5   \n",
       "\n",
       "                      Comments  \n",
       "0        Fantastic Preperation  \n",
       "1            Very enthusiastic  \n",
       "2  Most Professional Interview  \n",
       "3   Technologically Challenged  \n",
       "4          Awesome Sales Pitch  "
      ]
     },
     "execution_count": 20,
     "metadata": {},
     "output_type": "execute_result"
    }
   ],
   "source": [
    "df1.head()"
   ]
  },
  {
   "cell_type": "code",
   "execution_count": null,
   "metadata": {},
   "outputs": [],
   "source": []
  },
  {
   "cell_type": "code",
   "execution_count": 83,
   "metadata": {},
   "outputs": [
    {
     "data": {
      "text/plain": [
       "<AxesSubplot:xlabel='Position'>"
      ]
     },
     "execution_count": 83,
     "metadata": {},
     "output_type": "execute_result"
    },
    {
     "data": {
      "image/png": "[encoded data removed]",
      "text/plain": [
       "<Figure size 432x288 with 1 Axes>"
      ]
     },
     "metadata": {
      "needs_background": "light"
     },
     "output_type": "display_data"
    }
   ],
   "source": [
    "df1.plot(y='Interview Score',x='Position',kind='bar')"
   ]
  },
  {
   "cell_type": "code",
   "execution_count": 73,
   "metadata": {},
   "outputs": [
    {
     "data": {
      "text/plain": [
       "<AxesSubplot:>"
      ]
     },
     "execution_count": 73,
     "metadata": {},
     "output_type": "execute_result"
    },
    {
     "data": {
      "image/png": "[encoded data removed]",
      "text/plain": [
       "<Figure size 576x576 with 1 Axes>"
      ]
     },
     "metadata": {
      "needs_background": "light"
     },
     "output_type": "display_data"
    }
   ],
   "source": [
    "df1.plot.box( y='Interview Score', figsize=(8,8))"
   ]
  },
  {
   "cell_type": "code",
   "execution_count": 19,
   "metadata": {},
   "outputs": [
    {
     "data": {
      "text/html": [
       "<div>\n",
       "<style scoped>\n",
       "    .dataframe tbody tr th:only-of-type {\n",
       "        vertical-align: middle;\n",
       "    }\n",
       "\n",
       "    .dataframe tbody tr th {\n",
       "        vertical-align: top;\n",
       "    }\n",
       "\n",
       "    .dataframe thead th {\n",
       "        text-align: right;\n",
       "    }\n",
       "</style>\n",
       "<table border=\"1\" class=\"dataframe\">\n",
       "  <thead>\n",
       "    <tr style=\"text-align: right;\">\n",
       "      <th></th>\n",
       "      <th>Name</th>\n",
       "      <th>Challenge</th>\n",
       "      <th>Group Interview Score</th>\n",
       "      <th>Group Comments</th>\n",
       "    </tr>\n",
       "  </thead>\n",
       "  <tbody>\n",
       "    <tr>\n",
       "      <th>0</th>\n",
       "      <td>Ben</td>\n",
       "      <td>A</td>\n",
       "      <td>5</td>\n",
       "      <td>Kind communicator</td>\n",
       "    </tr>\n",
       "    <tr>\n",
       "      <th>1</th>\n",
       "      <td>Catherine</td>\n",
       "      <td>A</td>\n",
       "      <td>4</td>\n",
       "      <td>Problem solver</td>\n",
       "    </tr>\n",
       "    <tr>\n",
       "      <th>2</th>\n",
       "      <td>Felipe</td>\n",
       "      <td>A</td>\n",
       "      <td>5</td>\n",
       "      <td>Leader</td>\n",
       "    </tr>\n",
       "    <tr>\n",
       "      <th>3</th>\n",
       "      <td>Gabriel</td>\n",
       "      <td>B</td>\n",
       "      <td>3</td>\n",
       "      <td>Smart at approaching problems</td>\n",
       "    </tr>\n",
       "    <tr>\n",
       "      <th>4</th>\n",
       "      <td>Jorge</td>\n",
       "      <td>B</td>\n",
       "      <td>5</td>\n",
       "      <td>Inspiring</td>\n",
       "    </tr>\n",
       "  </tbody>\n",
       "</table>\n",
       "</div>"
      ],
      "text/plain": [
       "        Name Challenge  Group Interview Score                 Group Comments\n",
       "0        Ben         A                      5              Kind communicator\n",
       "1  Catherine         A                      4                 Problem solver\n",
       "2     Felipe         A                      5                         Leader\n",
       "3    Gabriel         B                      3  Smart at approaching problems\n",
       "4      Jorge         B                      5                      Inspiring"
      ]
     },
     "execution_count": 19,
     "metadata": {},
     "output_type": "execute_result"
    }
   ],
   "source": [
    "df2.head()"
   ]
  },
  {
   "cell_type": "code",
   "execution_count": 98,
   "metadata": {},
   "outputs": [],
   "source": []
  },
  {
   "cell_type": "code",
   "execution_count": 101,
   "metadata": {},
   "outputs": [
    {
     "data": {
      "text/plain": [
       "<AxesSubplot:ylabel='Frequency'>"
      ]
     },
     "execution_count": 101,
     "metadata": {},
     "output_type": "execute_result"
    },
    {
     "data": {
      "image/png": "[encoded data removed]",
      "text/plain": [
       "<Figure size 576x576 with 1 Axes>"
      ]
     },
     "metadata": {
      "needs_background": "light"
     },
     "output_type": "display_data"
    }
   ],
   "source": [
    "df2.plot(x='Name',y='Group Interview Score',kind='hist',figsize=(8,8),bins=3,)"
   ]
  },
  {
   "cell_type": "code",
   "execution_count": 10,
   "metadata": {},
   "outputs": [
    {
     "data": {
      "text/plain": [
       "0     False\n",
       "1      True\n",
       "2      True\n",
       "3     False\n",
       "4     False\n",
       "5      True\n",
       "6      True\n",
       "7     False\n",
       "8     False\n",
       "9      True\n",
       "10     True\n",
       "11    False\n",
       "Name: Name, dtype: bool"
      ]
     },
     "execution_count": 10,
     "metadata": {},
     "output_type": "execute_result"
    }
   ],
   "source": [
    "df1['Name'].isin(df2['Name'])"
   ]
  },
  {
   "cell_type": "code",
   "execution_count": 11,
   "metadata": {},
   "outputs": [],
   "source": [
    "filtered_1=df1.loc[df1['Name'].isin(df2['Name'])]"
   ]
  },
  {
   "cell_type": "code",
   "execution_count": 12,
   "metadata": {},
   "outputs": [
    {
     "data": {
      "text/html": [
       "<div>\n",
       "<style scoped>\n",
       "    .dataframe tbody tr th:only-of-type {\n",
       "        vertical-align: middle;\n",
       "    }\n",
       "\n",
       "    .dataframe tbody tr th {\n",
       "        vertical-align: top;\n",
       "    }\n",
       "\n",
       "    .dataframe thead th {\n",
       "        text-align: right;\n",
       "    }\n",
       "</style>\n",
       "<table border=\"1\" class=\"dataframe\">\n",
       "  <thead>\n",
       "    <tr style=\"text-align: right;\">\n",
       "      <th></th>\n",
       "      <th>Name</th>\n",
       "      <th>Position</th>\n",
       "      <th>YR Experience</th>\n",
       "      <th>Interview Score</th>\n",
       "      <th>Comments</th>\n",
       "    </tr>\n",
       "  </thead>\n",
       "  <tbody>\n",
       "    <tr>\n",
       "      <th>1</th>\n",
       "      <td>Ben</td>\n",
       "      <td>Manager</td>\n",
       "      <td>4</td>\n",
       "      <td>4.5</td>\n",
       "      <td>Very enthusiastic</td>\n",
       "    </tr>\n",
       "    <tr>\n",
       "      <th>2</th>\n",
       "      <td>Catherine</td>\n",
       "      <td>Manager</td>\n",
       "      <td>4</td>\n",
       "      <td>3.5</td>\n",
       "      <td>Most Professional Interview</td>\n",
       "    </tr>\n",
       "    <tr>\n",
       "      <th>5</th>\n",
       "      <td>Felipe</td>\n",
       "      <td>Sales</td>\n",
       "      <td>4</td>\n",
       "      <td>4.0</td>\n",
       "      <td>Past success</td>\n",
       "    </tr>\n",
       "    <tr>\n",
       "      <th>6</th>\n",
       "      <td>Gabriel</td>\n",
       "      <td>Engineer</td>\n",
       "      <td>6</td>\n",
       "      <td>4.5</td>\n",
       "      <td>Captivating</td>\n",
       "    </tr>\n",
       "    <tr>\n",
       "      <th>9</th>\n",
       "      <td>Jorge</td>\n",
       "      <td>Shift Supervisor</td>\n",
       "      <td>4</td>\n",
       "      <td>4.5</td>\n",
       "      <td>Hands on experience</td>\n",
       "    </tr>\n",
       "    <tr>\n",
       "      <th>10</th>\n",
       "      <td>Kevin</td>\n",
       "      <td>Intern</td>\n",
       "      <td>5</td>\n",
       "      <td>4.0</td>\n",
       "      <td>Impressive projects</td>\n",
       "    </tr>\n",
       "  </tbody>\n",
       "</table>\n",
       "</div>"
      ],
      "text/plain": [
       "         Name          Position  YR Experience  Interview Score  \\\n",
       "1         Ben           Manager              4              4.5   \n",
       "2   Catherine           Manager              4              3.5   \n",
       "5      Felipe             Sales              4              4.0   \n",
       "6     Gabriel          Engineer              6              4.5   \n",
       "9       Jorge  Shift Supervisor              4              4.5   \n",
       "10      Kevin            Intern              5              4.0   \n",
       "\n",
       "                       Comments  \n",
       "1             Very enthusiastic  \n",
       "2   Most Professional Interview  \n",
       "5                  Past success  \n",
       "6                  Captivating   \n",
       "9           Hands on experience  \n",
       "10          Impressive projects  "
      ]
     },
     "execution_count": 12,
     "metadata": {},
     "output_type": "execute_result"
    }
   ],
   "source": [
    "filtered_1"
   ]
  },
  {
   "cell_type": "code",
   "execution_count": 21,
   "metadata": {},
   "outputs": [
    {
     "data": {
      "text/html": [
       "<div>\n",
       "<style scoped>\n",
       "    .dataframe tbody tr th:only-of-type {\n",
       "        vertical-align: middle;\n",
       "    }\n",
       "\n",
       "    .dataframe tbody tr th {\n",
       "        vertical-align: top;\n",
       "    }\n",
       "\n",
       "    .dataframe thead th {\n",
       "        text-align: right;\n",
       "    }\n",
       "</style>\n",
       "<table border=\"1\" class=\"dataframe\">\n",
       "  <thead>\n",
       "    <tr style=\"text-align: right;\">\n",
       "      <th></th>\n",
       "      <th>Name</th>\n",
       "      <th>Position</th>\n",
       "      <th>YR Experience</th>\n",
       "      <th>Interview Score</th>\n",
       "      <th>Comments</th>\n",
       "    </tr>\n",
       "  </thead>\n",
       "  <tbody>\n",
       "    <tr>\n",
       "      <th>0</th>\n",
       "      <td>Ahmed</td>\n",
       "      <td>Engineer</td>\n",
       "      <td>3</td>\n",
       "      <td>5.0</td>\n",
       "      <td>Fantastic Preperation</td>\n",
       "    </tr>\n",
       "    <tr>\n",
       "      <th>3</th>\n",
       "      <td>Derrick</td>\n",
       "      <td>Janitoral</td>\n",
       "      <td>0</td>\n",
       "      <td>0.0</td>\n",
       "      <td>Technologically Challenged</td>\n",
       "    </tr>\n",
       "    <tr>\n",
       "      <th>4</th>\n",
       "      <td>Emmanuel</td>\n",
       "      <td>Sales</td>\n",
       "      <td>3</td>\n",
       "      <td>3.5</td>\n",
       "      <td>Awesome Sales Pitch</td>\n",
       "    </tr>\n",
       "    <tr>\n",
       "      <th>7</th>\n",
       "      <td>Hassan</td>\n",
       "      <td>Manager</td>\n",
       "      <td>7</td>\n",
       "      <td>5.0</td>\n",
       "      <td>Leader</td>\n",
       "    </tr>\n",
       "    <tr>\n",
       "      <th>8</th>\n",
       "      <td>Ian</td>\n",
       "      <td>Shift Supervisor</td>\n",
       "      <td>3</td>\n",
       "      <td>5.0</td>\n",
       "      <td>Well prepped</td>\n",
       "    </tr>\n",
       "    <tr>\n",
       "      <th>11</th>\n",
       "      <td>Linda</td>\n",
       "      <td>Intern</td>\n",
       "      <td>6</td>\n",
       "      <td>3.5</td>\n",
       "      <td>Well rounded</td>\n",
       "    </tr>\n",
       "  </tbody>\n",
       "</table>\n",
       "</div>"
      ],
      "text/plain": [
       "         Name          Position  YR Experience  Interview Score  \\\n",
       "0       Ahmed          Engineer              3              5.0   \n",
       "3     Derrick         Janitoral              0              0.0   \n",
       "4   Emmanuel              Sales              3              3.5   \n",
       "7      Hassan           Manager              7              5.0   \n",
       "8         Ian  Shift Supervisor              3              5.0   \n",
       "11      Linda            Intern              6              3.5   \n",
       "\n",
       "                      Comments  \n",
       "0        Fantastic Preperation  \n",
       "3   Technologically Challenged  \n",
       "4          Awesome Sales Pitch  \n",
       "7                       Leader  \n",
       "8                 Well prepped  \n",
       "11                Well rounded  "
      ]
     },
     "execution_count": 21,
     "metadata": {},
     "output_type": "execute_result"
    }
   ],
   "source": [
    "filtered_2=df1.loc[~df1['Name'].isin(df2['Name'])]\n",
    "filtered_2"
   ]
  },
  {
   "cell_type": "code",
   "execution_count": null,
   "metadata": {},
   "outputs": [],
   "source": []
  },
  {
   "cell_type": "code",
   "execution_count": 37,
   "metadata": {},
   "outputs": [
    {
     "data": {
      "text/html": [
       "<div>\n",
       "<style scoped>\n",
       "    .dataframe tbody tr th:only-of-type {\n",
       "        vertical-align: middle;\n",
       "    }\n",
       "\n",
       "    .dataframe tbody tr th {\n",
       "        vertical-align: top;\n",
       "    }\n",
       "\n",
       "    .dataframe thead th {\n",
       "        text-align: right;\n",
       "    }\n",
       "</style>\n",
       "<table border=\"1\" class=\"dataframe\">\n",
       "  <thead>\n",
       "    <tr style=\"text-align: right;\">\n",
       "      <th></th>\n",
       "      <th>Name</th>\n",
       "      <th>Position</th>\n",
       "      <th>YR Experience</th>\n",
       "      <th>Interview Score</th>\n",
       "      <th>Comments</th>\n",
       "      <th>Challenge</th>\n",
       "      <th>Group Interview Score</th>\n",
       "      <th>Group Comments</th>\n",
       "    </tr>\n",
       "  </thead>\n",
       "  <tbody>\n",
       "    <tr>\n",
       "      <th>0</th>\n",
       "      <td>Ben</td>\n",
       "      <td>Manager</td>\n",
       "      <td>4</td>\n",
       "      <td>4.5</td>\n",
       "      <td>Very enthusiastic</td>\n",
       "      <td>A</td>\n",
       "      <td>5</td>\n",
       "      <td>Kind communicator</td>\n",
       "    </tr>\n",
       "    <tr>\n",
       "      <th>1</th>\n",
       "      <td>Catherine</td>\n",
       "      <td>Manager</td>\n",
       "      <td>4</td>\n",
       "      <td>3.5</td>\n",
       "      <td>Most Professional Interview</td>\n",
       "      <td>A</td>\n",
       "      <td>4</td>\n",
       "      <td>Problem solver</td>\n",
       "    </tr>\n",
       "    <tr>\n",
       "      <th>2</th>\n",
       "      <td>Felipe</td>\n",
       "      <td>Sales</td>\n",
       "      <td>4</td>\n",
       "      <td>4.0</td>\n",
       "      <td>Past success</td>\n",
       "      <td>A</td>\n",
       "      <td>5</td>\n",
       "      <td>Leader</td>\n",
       "    </tr>\n",
       "    <tr>\n",
       "      <th>3</th>\n",
       "      <td>Gabriel</td>\n",
       "      <td>Engineer</td>\n",
       "      <td>6</td>\n",
       "      <td>4.5</td>\n",
       "      <td>Captivating</td>\n",
       "      <td>B</td>\n",
       "      <td>3</td>\n",
       "      <td>Smart at approaching problems</td>\n",
       "    </tr>\n",
       "    <tr>\n",
       "      <th>4</th>\n",
       "      <td>Jorge</td>\n",
       "      <td>Shift Supervisor</td>\n",
       "      <td>4</td>\n",
       "      <td>4.5</td>\n",
       "      <td>Hands on experience</td>\n",
       "      <td>B</td>\n",
       "      <td>5</td>\n",
       "      <td>Inspiring</td>\n",
       "    </tr>\n",
       "    <tr>\n",
       "      <th>5</th>\n",
       "      <td>Kevin</td>\n",
       "      <td>Intern</td>\n",
       "      <td>5</td>\n",
       "      <td>4.0</td>\n",
       "      <td>Impressive projects</td>\n",
       "      <td>B</td>\n",
       "      <td>4</td>\n",
       "      <td>Got things done</td>\n",
       "    </tr>\n",
       "  </tbody>\n",
       "</table>\n",
       "</div>"
      ],
      "text/plain": [
       "        Name          Position  YR Experience  Interview Score  \\\n",
       "0        Ben           Manager              4              4.5   \n",
       "1  Catherine           Manager              4              3.5   \n",
       "2     Felipe             Sales              4              4.0   \n",
       "3    Gabriel          Engineer              6              4.5   \n",
       "4      Jorge  Shift Supervisor              4              4.5   \n",
       "5      Kevin            Intern              5              4.0   \n",
       "\n",
       "                      Comments Challenge  Group Interview Score  \\\n",
       "0            Very enthusiastic         A                      5   \n",
       "1  Most Professional Interview         A                      4   \n",
       "2                 Past success         A                      5   \n",
       "3                 Captivating          B                      3   \n",
       "4          Hands on experience         B                      5   \n",
       "5          Impressive projects         B                      4   \n",
       "\n",
       "                  Group Comments  \n",
       "0              Kind communicator  \n",
       "1                 Problem solver  \n",
       "2                         Leader  \n",
       "3  Smart at approaching problems  \n",
       "4                      Inspiring  \n",
       "5                Got things done  "
      ]
     },
     "execution_count": 37,
     "metadata": {},
     "output_type": "execute_result"
    }
   ],
   "source": [
    "merge_df=pd.merge(df1,df2,on='Name')\n",
    "merge_df"
   ]
  },
  {
   "cell_type": "code",
   "execution_count": 38,
   "metadata": {},
   "outputs": [
    {
     "data": {
      "text/html": [
       "<div>\n",
       "<style scoped>\n",
       "    .dataframe tbody tr th:only-of-type {\n",
       "        vertical-align: middle;\n",
       "    }\n",
       "\n",
       "    .dataframe tbody tr th {\n",
       "        vertical-align: top;\n",
       "    }\n",
       "\n",
       "    .dataframe thead th {\n",
       "        text-align: right;\n",
       "    }\n",
       "</style>\n",
       "<table border=\"1\" class=\"dataframe\">\n",
       "  <thead>\n",
       "    <tr style=\"text-align: right;\">\n",
       "      <th></th>\n",
       "      <th>Name</th>\n",
       "      <th>Position</th>\n",
       "      <th>YR Experience</th>\n",
       "      <th>Interview Score</th>\n",
       "      <th>Comments</th>\n",
       "      <th>Challenge</th>\n",
       "      <th>Group Interview Score</th>\n",
       "      <th>Group Comments</th>\n",
       "    </tr>\n",
       "  </thead>\n",
       "  <tbody>\n",
       "    <tr>\n",
       "      <th>2</th>\n",
       "      <td>Felipe</td>\n",
       "      <td>Sales</td>\n",
       "      <td>4</td>\n",
       "      <td>4.0</td>\n",
       "      <td>Past success</td>\n",
       "      <td>A</td>\n",
       "      <td>5</td>\n",
       "      <td>Leader</td>\n",
       "    </tr>\n",
       "    <tr>\n",
       "      <th>5</th>\n",
       "      <td>Kevin</td>\n",
       "      <td>Intern</td>\n",
       "      <td>5</td>\n",
       "      <td>4.0</td>\n",
       "      <td>Impressive projects</td>\n",
       "      <td>B</td>\n",
       "      <td>4</td>\n",
       "      <td>Got things done</td>\n",
       "    </tr>\n",
       "  </tbody>\n",
       "</table>\n",
       "</div>"
      ],
      "text/plain": [
       "     Name Position  YR Experience  Interview Score             Comments  \\\n",
       "2  Felipe    Sales              4              4.0         Past success   \n",
       "5   Kevin   Intern              5              4.0  Impressive projects   \n",
       "\n",
       "  Challenge  Group Interview Score   Group Comments  \n",
       "2         A                      5           Leader  \n",
       "5         B                      4  Got things done  "
      ]
     },
     "execution_count": 38,
     "metadata": {},
     "output_type": "execute_result"
    }
   ],
   "source": [
    "merge_filter=merge_df.loc[(merge_df['Interview Score']==4) | (merge_df['YR Experience']==3)]\n",
    "merge_filter"
   ]
  },
  {
   "cell_type": "code",
   "execution_count": 34,
   "metadata": {},
   "outputs": [
    {
     "data": {
      "text/plain": [
       "-0.9999999999999999"
      ]
     },
     "execution_count": 34,
     "metadata": {},
     "output_type": "execute_result"
    }
   ],
   "source": [
    "merge_df['YR Experience'].corr(merge_df['Group Interview Score'])"
   ]
  },
  {
   "cell_type": "code",
   "execution_count": 35,
   "metadata": {},
   "outputs": [],
   "source": [
    "import seaborn as sns"
   ]
  },
  {
   "cell_type": "code",
   "execution_count": 68,
   "metadata": {},
   "outputs": [
    {
     "data": {
      "text/plain": [
       "<AxesSubplot:xlabel='YR Experience', ylabel='Group Interview Score'>"
      ]
     },
     "execution_count": 68,
     "metadata": {},
     "output_type": "execute_result"
    },
    {
     "data": {
      "image/png": "[encoded data removed]",
      "text/plain": [
       "<Figure size 432x288 with 1 Axes>"
      ]
     },
     "metadata": {
      "needs_background": "light"
     },
     "output_type": "display_data"
    }
   ],
   "source": [
    "sns.lineplot(data=merge_df,x='YR Experience',y='Group Interview Score')"
   ]
  },
  {
   "cell_type": "code",
   "execution_count": null,
   "metadata": {},
   "outputs": [],
   "source": []
  }
 ],
 "metadata": {
  "kernelspec": {
   "display_name": "Python 3",
   "language": "python",
   "name": "python3"
  },
  "language_info": {
   "codemirror_mode": {
    "name": "ipython",
    "version": 3
   },
   "file_extension": ".py",
   "mimetype": "text/x-python",
   "name": "python",
   "nbconvert_exporter": "python",
   "pygments_lexer": "ipython3",
   "version": "3.8.5"
  }
 },
 "nbformat": 4,
 "nbformat_minor": 4
}
